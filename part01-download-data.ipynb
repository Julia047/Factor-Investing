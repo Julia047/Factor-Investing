{
 "cells": [
  {
   "cell_type": "code",
   "execution_count": 1,
   "id": "dd39b157",
   "metadata": {},
   "outputs": [],
   "source": [
    "import pandas as pd\n",
    "import numpy as np\n",
    "import tushare as ts\n",
    "import os \n",
    "from tqdm import tqdm\n",
    "import glob\n",
    "ts.set_token('ce1d8f98f48f0c92fa70a66528612510f350b82ea565bc1abd45b5ac')\n",
    "debug = False\n",
    "from datetime import datetime \n",
    "pro = ts.pro_api()"
   ]
  },
  {
   "cell_type": "markdown",
   "id": "3335c53e",
   "metadata": {},
   "source": [
    "## 股票基础信息"
   ]
  },
  {
   "cell_type": "code",
   "execution_count": 2,
   "id": "3e02c2d9",
   "metadata": {},
   "outputs": [],
   "source": [
    "stocklist = pro.stock_basic(exchange='', list_status='L', fields='ts_code,symbol,name,area,industry,list_date')"
   ]
  },
  {
   "cell_type": "code",
   "execution_count": 4,
   "id": "73773f0e",
   "metadata": {},
   "outputs": [
    {
     "data": {
      "text/html": [
       "<div>\n",
       "<style scoped>\n",
       "    .dataframe tbody tr th:only-of-type {\n",
       "        vertical-align: middle;\n",
       "    }\n",
       "\n",
       "    .dataframe tbody tr th {\n",
       "        vertical-align: top;\n",
       "    }\n",
       "\n",
       "    .dataframe thead th {\n",
       "        text-align: right;\n",
       "    }\n",
       "</style>\n",
       "<table border=\"1\" class=\"dataframe\">\n",
       "  <thead>\n",
       "    <tr style=\"text-align: right;\">\n",
       "      <th></th>\n",
       "      <th>ts_code</th>\n",
       "      <th>symbol</th>\n",
       "      <th>name</th>\n",
       "      <th>area</th>\n",
       "      <th>industry</th>\n",
       "      <th>list_date</th>\n",
       "    </tr>\n",
       "  </thead>\n",
       "  <tbody>\n",
       "    <tr>\n",
       "      <th>0</th>\n",
       "      <td>000001.SZ</td>\n",
       "      <td>000001</td>\n",
       "      <td>平安银行</td>\n",
       "      <td>深圳</td>\n",
       "      <td>银行</td>\n",
       "      <td>19910403</td>\n",
       "    </tr>\n",
       "    <tr>\n",
       "      <th>1</th>\n",
       "      <td>000002.SZ</td>\n",
       "      <td>000002</td>\n",
       "      <td>万科A</td>\n",
       "      <td>深圳</td>\n",
       "      <td>全国地产</td>\n",
       "      <td>19910129</td>\n",
       "    </tr>\n",
       "    <tr>\n",
       "      <th>2</th>\n",
       "      <td>000004.SZ</td>\n",
       "      <td>000004</td>\n",
       "      <td>国华网安</td>\n",
       "      <td>深圳</td>\n",
       "      <td>软件服务</td>\n",
       "      <td>19910114</td>\n",
       "    </tr>\n",
       "    <tr>\n",
       "      <th>3</th>\n",
       "      <td>000006.SZ</td>\n",
       "      <td>000006</td>\n",
       "      <td>深振业A</td>\n",
       "      <td>深圳</td>\n",
       "      <td>区域地产</td>\n",
       "      <td>19920427</td>\n",
       "    </tr>\n",
       "    <tr>\n",
       "      <th>4</th>\n",
       "      <td>000007.SZ</td>\n",
       "      <td>000007</td>\n",
       "      <td>全新好</td>\n",
       "      <td>深圳</td>\n",
       "      <td>其他商业</td>\n",
       "      <td>19920413</td>\n",
       "    </tr>\n",
       "  </tbody>\n",
       "</table>\n",
       "</div>"
      ],
      "text/plain": [
       "     ts_code  symbol  name area industry list_date\n",
       "0  000001.SZ  000001  平安银行   深圳       银行  19910403\n",
       "1  000002.SZ  000002   万科A   深圳     全国地产  19910129\n",
       "2  000004.SZ  000004  国华网安   深圳     软件服务  19910114\n",
       "3  000006.SZ  000006  深振业A   深圳     区域地产  19920427\n",
       "4  000007.SZ  000007   全新好   深圳     其他商业  19920413"
      ]
     },
     "execution_count": 4,
     "metadata": {},
     "output_type": "execute_result"
    }
   ],
   "source": [
    "stocklist.head()"
   ]
  },
  {
   "cell_type": "markdown",
   "id": "7165a1a3",
   "metadata": {},
   "source": [
    "## 交易日历"
   ]
  },
  {
   "cell_type": "code",
   "execution_count": 6,
   "id": "94609e0b",
   "metadata": {},
   "outputs": [
    {
     "data": {
      "text/html": [
       "<div>\n",
       "<style scoped>\n",
       "    .dataframe tbody tr th:only-of-type {\n",
       "        vertical-align: middle;\n",
       "    }\n",
       "\n",
       "    .dataframe tbody tr th {\n",
       "        vertical-align: top;\n",
       "    }\n",
       "\n",
       "    .dataframe thead th {\n",
       "        text-align: right;\n",
       "    }\n",
       "</style>\n",
       "<table border=\"1\" class=\"dataframe\">\n",
       "  <thead>\n",
       "    <tr style=\"text-align: right;\">\n",
       "      <th></th>\n",
       "      <th>exchange</th>\n",
       "      <th>cal_date</th>\n",
       "      <th>is_open</th>\n",
       "      <th>pretrade_date</th>\n",
       "    </tr>\n",
       "  </thead>\n",
       "  <tbody>\n",
       "    <tr>\n",
       "      <th>0</th>\n",
       "      <td>SSE</td>\n",
       "      <td>20250205</td>\n",
       "      <td>1</td>\n",
       "      <td>20250127</td>\n",
       "    </tr>\n",
       "    <tr>\n",
       "      <th>9</th>\n",
       "      <td>SSE</td>\n",
       "      <td>20250127</td>\n",
       "      <td>1</td>\n",
       "      <td>20250124</td>\n",
       "    </tr>\n",
       "    <tr>\n",
       "      <th>12</th>\n",
       "      <td>SSE</td>\n",
       "      <td>20250124</td>\n",
       "      <td>1</td>\n",
       "      <td>20250123</td>\n",
       "    </tr>\n",
       "    <tr>\n",
       "      <th>13</th>\n",
       "      <td>SSE</td>\n",
       "      <td>20250123</td>\n",
       "      <td>1</td>\n",
       "      <td>20250122</td>\n",
       "    </tr>\n",
       "    <tr>\n",
       "      <th>14</th>\n",
       "      <td>SSE</td>\n",
       "      <td>20250122</td>\n",
       "      <td>1</td>\n",
       "      <td>20250121</td>\n",
       "    </tr>\n",
       "  </tbody>\n",
       "</table>\n",
       "</div>"
      ],
      "text/plain": [
       "   exchange  cal_date  is_open pretrade_date\n",
       "0       SSE  20250205        1      20250127\n",
       "9       SSE  20250127        1      20250124\n",
       "12      SSE  20250124        1      20250123\n",
       "13      SSE  20250123        1      20250122\n",
       "14      SSE  20250122        1      20250121"
      ]
     },
     "execution_count": 6,
     "metadata": {},
     "output_type": "execute_result"
    }
   ],
   "source": [
    "trade_cal = pro.trade_cal(exchange='', start_date='20190101', end_date='20250205')\n",
    "trade_cal = trade_cal[trade_cal.is_open==1]\n",
    "trade_cal.head()"
   ]
  },
  {
   "cell_type": "markdown",
   "id": "2f9a9c67",
   "metadata": {},
   "source": [
    "## 行情数据"
   ]
  },
  {
   "cell_type": "code",
   "execution_count": 5,
   "id": "4abd079f",
   "metadata": {},
   "outputs": [
    {
     "name": "stderr",
     "output_type": "stream",
     "text": [
      "100%|██████████████████████████████████████████████████████████████████████████████| 1247/1247 [13:26<00:00,  1.55it/s]\n"
     ]
    }
   ],
   "source": [
    "price_PD = []\n",
    "for trade_date in tqdm(trade_cal.cal_date):\n",
    "    df = pro.daily(trade_date=trade_date)\n",
    "    price_PD.append(df)\n",
    "    \n",
    "price_PD = pd.concat(price_PD).reset_index(drop=True)\n",
    "\n",
    "price_PD = price_PD.drop_duplicates().sort_values(['ts_code','trade_date']).reset_index(drop=True)\n",
    "price_PD.to_csv(f'data/price_PD.csv', index=False)   \n"
   ]
  },
  {
   "cell_type": "markdown",
   "id": "86199906",
   "metadata": {},
   "source": [
    "## 重要指标"
   ]
  },
  {
   "cell_type": "code",
   "execution_count": 6,
   "id": "189e3370",
   "metadata": {},
   "outputs": [
    {
     "name": "stderr",
     "output_type": "stream",
     "text": [
      "100%|██████████████████████████████████████████████████████████████████████████████| 1247/1247 [18:50<00:00,  1.10it/s]\n"
     ]
    }
   ],
   "source": [
    "price_PD = []\n",
    "for trade_date in tqdm(trade_cal.cal_date):\n",
    "    df = pro.daily_basic(ts_code='', trade_date=trade_date, \\\n",
    "                     fields='ts_code,trade_date,turnover_rate,turnover_rate_f,volume_ratio,pe,pe_ttm,pb,ps,\\\n",
    "                     ps_ttm,dv_ratio,dv_ttm,total_share,float_share,free_share,total_mv,circ_mv')\n",
    "    price_PD.append(df)\n",
    "    \n",
    "price_PD = pd.concat(price_PD).reset_index(drop=True)\n",
    "\n",
    "price_PD = price_PD.drop_duplicates().sort_values(['ts_code','trade_date']).reset_index(drop=True)\n",
    "price_PD.to_csv(f'data/daily_basic.csv', index=False)   \n"
   ]
  },
  {
   "cell_type": "code",
   "execution_count": null,
   "id": "7d1537f6",
   "metadata": {},
   "outputs": [],
   "source": []
  },
  {
   "cell_type": "code",
   "execution_count": null,
   "id": "eba8715b",
   "metadata": {},
   "outputs": [],
   "source": []
  },
  {
   "cell_type": "code",
   "execution_count": null,
   "id": "ecb1dc19",
   "metadata": {},
   "outputs": [],
   "source": []
  }
 ],
 "metadata": {
  "kernelspec": {
   "display_name": "Python 3 (ipykernel)",
   "language": "python",
   "name": "python3"
  },
  "language_info": {
   "codemirror_mode": {
    "name": "ipython",
    "version": 3
   },
   "file_extension": ".py",
   "mimetype": "text/x-python",
   "name": "python",
   "nbconvert_exporter": "python",
   "pygments_lexer": "ipython3",
   "version": "3.9.13"
  }
 },
 "nbformat": 4,
 "nbformat_minor": 5
}
